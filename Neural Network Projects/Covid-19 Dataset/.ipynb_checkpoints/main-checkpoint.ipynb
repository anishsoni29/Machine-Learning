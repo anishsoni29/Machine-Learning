{
 "cells": [
  {
   "cell_type": "code",
   "execution_count": 1,
   "id": "98f1224f",
   "metadata": {},
   "outputs": [],
   "source": [
    "import numpy as np\n",
    "import matplotlib.pyplot as plt\n",
    "import pandas as pd\n",
    "import os"
   ]
  },
  {
   "cell_type": "markdown",
   "id": "60d95df0",
   "metadata": {},
   "source": [
    "## Importing the data"
   ]
  },
  {
   "cell_type": "code",
   "execution_count": 13,
   "id": "c5d32d87",
   "metadata": {},
   "outputs": [
    {
     "name": "stdout",
     "output_type": "stream",
     "text": [
      "/Users/anishsoni/Desktop/kaggle/images/.DS_Store\n",
      "/Users/anishsoni/Desktop/kaggle/images/test/.DS_Store\n",
      "/Users/anishsoni/Desktop/kaggle/images/test/Viral Pneumonia/0107.jpeg\n",
      "/Users/anishsoni/Desktop/kaggle/images/test/Viral Pneumonia/0111.jpeg\n",
      "/Users/anishsoni/Desktop/kaggle/images/test/Viral Pneumonia/0110.jpeg\n",
      "/Users/anishsoni/Desktop/kaggle/images/test/Viral Pneumonia/0106.jpeg\n",
      "/Users/anishsoni/Desktop/kaggle/images/test/Viral Pneumonia/0101.jpeg\n",
      "/Users/anishsoni/Desktop/kaggle/images/test/Viral Pneumonia/0117.jpeg\n",
      "/Users/anishsoni/Desktop/kaggle/images/test/Viral Pneumonia/0116.jpeg\n",
      "/Users/anishsoni/Desktop/kaggle/images/test/Viral Pneumonia/0120.jpeg\n",
      "/Users/anishsoni/Desktop/kaggle/images/test/Viral Pneumonia/0119.jpeg\n",
      "/Users/anishsoni/Desktop/kaggle/images/test/Viral Pneumonia/0115.jpeg\n",
      "/Users/anishsoni/Desktop/kaggle/images/test/Viral Pneumonia/0103.jpeg\n",
      "/Users/anishsoni/Desktop/kaggle/images/test/Viral Pneumonia/0102.jpeg\n",
      "/Users/anishsoni/Desktop/kaggle/images/test/Viral Pneumonia/0114.jpeg\n",
      "/Users/anishsoni/Desktop/kaggle/images/test/Viral Pneumonia/0118.jpeg\n",
      "/Users/anishsoni/Desktop/kaggle/images/test/Viral Pneumonia/0113.jpeg\n",
      "/Users/anishsoni/Desktop/kaggle/images/test/Viral Pneumonia/0105.jpeg\n",
      "/Users/anishsoni/Desktop/kaggle/images/test/Viral Pneumonia/0109.jpeg\n",
      "/Users/anishsoni/Desktop/kaggle/images/test/Viral Pneumonia/0108.jpeg\n",
      "/Users/anishsoni/Desktop/kaggle/images/test/Viral Pneumonia/0104.jpeg\n",
      "/Users/anishsoni/Desktop/kaggle/images/test/Viral Pneumonia/0112.jpeg\n",
      "/Users/anishsoni/Desktop/kaggle/images/test/Normal/0107.jpeg\n",
      "/Users/anishsoni/Desktop/kaggle/images/test/Normal/0111.jpeg\n",
      "/Users/anishsoni/Desktop/kaggle/images/test/Normal/0110.jpeg\n",
      "/Users/anishsoni/Desktop/kaggle/images/test/Normal/0106.jpeg\n",
      "/Users/anishsoni/Desktop/kaggle/images/test/Normal/0121.jpeg\n",
      "/Users/anishsoni/Desktop/kaggle/images/test/Normal/0101.jpeg\n",
      "/Users/anishsoni/Desktop/kaggle/images/test/Normal/0117.jpeg\n",
      "/Users/anishsoni/Desktop/kaggle/images/test/Normal/0116.jpeg\n",
      "/Users/anishsoni/Desktop/kaggle/images/test/Normal/0120.jpeg\n",
      "/Users/anishsoni/Desktop/kaggle/images/test/Normal/0119.jpeg\n",
      "/Users/anishsoni/Desktop/kaggle/images/test/Normal/0115.jpeg\n",
      "/Users/anishsoni/Desktop/kaggle/images/test/Normal/0103.jpeg\n",
      "/Users/anishsoni/Desktop/kaggle/images/test/Normal/0102.jpeg\n",
      "/Users/anishsoni/Desktop/kaggle/images/test/Normal/0114.jpeg\n",
      "/Users/anishsoni/Desktop/kaggle/images/test/Normal/0118.jpeg\n",
      "/Users/anishsoni/Desktop/kaggle/images/test/Normal/0122.jpeg\n",
      "/Users/anishsoni/Desktop/kaggle/images/test/Normal/0105.jpeg\n",
      "/Users/anishsoni/Desktop/kaggle/images/test/Normal/0109.jpeg\n",
      "/Users/anishsoni/Desktop/kaggle/images/test/Normal/0108.jpeg\n",
      "/Users/anishsoni/Desktop/kaggle/images/test/Normal/0112.jpeg\n",
      "/Users/anishsoni/Desktop/kaggle/images/test/Covid/radiopaedia-2019-novel-coronavirus-infected-pneumonia.jpg\n",
      "/Users/anishsoni/Desktop/kaggle/images/test/Covid/COVID-00012.jpg\n",
      "/Users/anishsoni/Desktop/kaggle/images/test/Covid/0105.png\n",
      "/Users/anishsoni/Desktop/kaggle/images/test/Covid/0111.jpg\n",
      "/Users/anishsoni/Desktop/kaggle/images/test/Covid/0112.jpg\n",
      "/Users/anishsoni/Desktop/kaggle/images/test/Covid/0113.jpg\n",
      "/Users/anishsoni/Desktop/kaggle/images/test/Covid/auntminnie-a-2020_01_28_23_51_6665_2020_01_28_Vietnam_coronavirus.jpeg\n",
      "/Users/anishsoni/Desktop/kaggle/images/test/Covid/098.jpeg\n",
      "/Users/anishsoni/Desktop/kaggle/images/test/Covid/0106.jpeg\n",
      "/Users/anishsoni/Desktop/kaggle/images/test/Covid/auntminnie-c-2020_01_28_23_51_6665_2020_01_28_Vietnam_coronavirus.jpeg\n",
      "/Users/anishsoni/Desktop/kaggle/images/test/Covid/auntminnie-b-2020_01_28_23_51_6665_2020_01_28_Vietnam_coronavirus.jpeg\n",
      "/Users/anishsoni/Desktop/kaggle/images/test/Covid/0100.jpeg\n",
      "/Users/anishsoni/Desktop/kaggle/images/test/Covid/auntminnie-2020_01_31_20_24_2322_2020_01_31_x-ray_coronavirus_US.jpg\n",
      "/Users/anishsoni/Desktop/kaggle/images/test/Covid/0119.jpeg\n",
      "/Users/anishsoni/Desktop/kaggle/images/test/Covid/096.png\n",
      "/Users/anishsoni/Desktop/kaggle/images/test/Covid/094.png\n",
      "/Users/anishsoni/Desktop/kaggle/images/test/Covid/0115.jpeg\n",
      "/Users/anishsoni/Desktop/kaggle/images/test/Covid/0102.jpeg\n",
      "/Users/anishsoni/Desktop/kaggle/images/test/Covid/0118.jpeg\n",
      "/Users/anishsoni/Desktop/kaggle/images/test/Covid/COVID-00033.jpg\n",
      "/Users/anishsoni/Desktop/kaggle/images/test/Covid/auntminnie-d-2020_01_28_23_51_6665_2020_01_28_Vietnam_coronavirus.jpeg\n",
      "/Users/anishsoni/Desktop/kaggle/images/test/Covid/0108.jpeg\n",
      "/Users/anishsoni/Desktop/kaggle/images/test/Covid/COVID-00022.jpg\n",
      "/Users/anishsoni/Desktop/kaggle/images/test/Covid/COVID-00003b.jpg\n",
      "/Users/anishsoni/Desktop/kaggle/images/test/Covid/0120.jpg\n",
      "/Users/anishsoni/Desktop/kaggle/images/test/Covid/COVID-00037.jpg\n",
      "/Users/anishsoni/Desktop/kaggle/images/train/.DS_Store\n",
      "/Users/anishsoni/Desktop/kaggle/images/train/Viral Pneumonia/06.jpeg\n",
      "/Users/anishsoni/Desktop/kaggle/images/train/Viral Pneumonia/037.jpeg\n",
      "/Users/anishsoni/Desktop/kaggle/images/train/Viral Pneumonia/076.jpeg\n",
      "/Users/anishsoni/Desktop/kaggle/images/train/Viral Pneumonia/021.jpeg\n",
      "/Users/anishsoni/Desktop/kaggle/images/train/Viral Pneumonia/056.jpeg\n",
      "/Users/anishsoni/Desktop/kaggle/images/train/Viral Pneumonia/083.jpeg\n",
      "/Users/anishsoni/Desktop/kaggle/images/train/Viral Pneumonia/095.jpeg\n",
      "/Users/anishsoni/Desktop/kaggle/images/train/Viral Pneumonia/094.jpeg\n",
      "/Users/anishsoni/Desktop/kaggle/images/train/Viral Pneumonia/082.jpeg\n",
      "/Users/anishsoni/Desktop/kaggle/images/train/Viral Pneumonia/041.jpeg\n",
      "/Users/anishsoni/Desktop/kaggle/images/train/Viral Pneumonia/016.jpeg\n",
      "/Users/anishsoni/Desktop/kaggle/images/train/Viral Pneumonia/057.jpeg\n",
      "/Users/anishsoni/Desktop/kaggle/images/train/Viral Pneumonia/020.jpeg\n",
      "/Users/anishsoni/Desktop/kaggle/images/train/Viral Pneumonia/077.jpeg\n",
      "/Users/anishsoni/Desktop/kaggle/images/train/Viral Pneumonia/061.jpeg\n",
      "/Users/anishsoni/Desktop/kaggle/images/train/Viral Pneumonia/036.jpeg\n",
      "/Users/anishsoni/Desktop/kaggle/images/train/Viral Pneumonia/07.jpeg\n",
      "/Users/anishsoni/Desktop/kaggle/images/train/Viral Pneumonia/011.jpeg\n",
      "/Users/anishsoni/Desktop/kaggle/images/train/Viral Pneumonia/046.jpeg\n",
      "/Users/anishsoni/Desktop/kaggle/images/train/Viral Pneumonia/031.jpeg\n",
      "/Users/anishsoni/Desktop/kaggle/images/train/Viral Pneumonia/066.jpeg\n",
      "/Users/anishsoni/Desktop/kaggle/images/train/Viral Pneumonia/027.jpeg\n",
      "/Users/anishsoni/Desktop/kaggle/images/train/Viral Pneumonia/071.jpeg\n",
      "/Users/anishsoni/Desktop/kaggle/images/train/Viral Pneumonia/067.jpeg\n",
      "/Users/anishsoni/Desktop/kaggle/images/train/Viral Pneumonia/01.jpeg\n",
      "/Users/anishsoni/Desktop/kaggle/images/train/Viral Pneumonia/084.jpeg\n",
      "/Users/anishsoni/Desktop/kaggle/images/train/Viral Pneumonia/047.jpeg\n",
      "/Users/anishsoni/Desktop/kaggle/images/train/Viral Pneumonia/010.jpeg\n",
      "/Users/anishsoni/Desktop/kaggle/images/train/Viral Pneumonia/051.jpeg\n",
      "/Users/anishsoni/Desktop/kaggle/images/train/Viral Pneumonia/068.jpeg\n",
      "/Users/anishsoni/Desktop/kaggle/images/train/Viral Pneumonia/044.jpeg\n",
      "/Users/anishsoni/Desktop/kaggle/images/train/Viral Pneumonia/013.jpeg\n",
      "/Users/anishsoni/Desktop/kaggle/images/train/Viral Pneumonia/052.jpeg\n",
      "/Users/anishsoni/Desktop/kaggle/images/train/Viral Pneumonia/025.jpeg\n",
      "/Users/anishsoni/Desktop/kaggle/images/train/Viral Pneumonia/072.jpeg\n",
      "/Users/anishsoni/Desktop/kaggle/images/train/Viral Pneumonia/064.jpeg\n",
      "/Users/anishsoni/Desktop/kaggle/images/train/Viral Pneumonia/033.jpeg\n",
      "/Users/anishsoni/Desktop/kaggle/images/train/Viral Pneumonia/048.jpeg\n",
      "/Users/anishsoni/Desktop/kaggle/images/train/Viral Pneumonia/02.jpeg\n",
      "/Users/anishsoni/Desktop/kaggle/images/train/Viral Pneumonia/03.jpeg\n",
      "/Users/anishsoni/Desktop/kaggle/images/train/Viral Pneumonia/032.jpeg\n",
      "/Users/anishsoni/Desktop/kaggle/images/train/Viral Pneumonia/065.jpeg\n",
      "/Users/anishsoni/Desktop/kaggle/images/train/Viral Pneumonia/073.jpeg\n",
      "/Users/anishsoni/Desktop/kaggle/images/train/Viral Pneumonia/024.jpeg\n",
      "/Users/anishsoni/Desktop/kaggle/images/train/Viral Pneumonia/053.jpeg\n",
      "/Users/anishsoni/Desktop/kaggle/images/train/Viral Pneumonia/012.jpeg\n",
      "/Users/anishsoni/Desktop/kaggle/images/train/Viral Pneumonia/045.jpeg\n",
      "/Users/anishsoni/Desktop/kaggle/images/train/Viral Pneumonia/023.jpeg\n",
      "/Users/anishsoni/Desktop/kaggle/images/train/Viral Pneumonia/074.jpeg\n",
      "/Users/anishsoni/Desktop/kaggle/images/train/Viral Pneumonia/062.jpeg\n",
      "/Users/anishsoni/Desktop/kaggle/images/train/Viral Pneumonia/035.jpeg\n",
      "/Users/anishsoni/Desktop/kaggle/images/train/Viral Pneumonia/019.jpeg\n",
      "/Users/anishsoni/Desktop/kaggle/images/train/Viral Pneumonia/04.jpeg\n",
      "/Users/anishsoni/Desktop/kaggle/images/train/Viral Pneumonia/058.jpeg\n",
      "/Users/anishsoni/Desktop/kaggle/images/train/Viral Pneumonia/078.jpeg\n",
      "/Users/anishsoni/Desktop/kaggle/images/train/Viral Pneumonia/081.jpeg\n",
      "/Users/anishsoni/Desktop/kaggle/images/train/Viral Pneumonia/042.jpeg\n",
      "/Users/anishsoni/Desktop/kaggle/images/train/Viral Pneumonia/08.jpeg\n",
      "/Users/anishsoni/Desktop/kaggle/images/train/Viral Pneumonia/054.jpeg\n",
      "/Users/anishsoni/Desktop/kaggle/images/train/Viral Pneumonia/055.jpeg\n",
      "/Users/anishsoni/Desktop/kaggle/images/train/Viral Pneumonia/09.jpeg\n",
      "/Users/anishsoni/Desktop/kaggle/images/train/Viral Pneumonia/043.jpeg\n",
      "/Users/anishsoni/Desktop/kaggle/images/train/Viral Pneumonia/038.jpeg\n",
      "/Users/anishsoni/Desktop/kaggle/images/train/Viral Pneumonia/096.jpeg\n",
      "/Users/anishsoni/Desktop/kaggle/images/train/Viral Pneumonia/018.jpeg\n",
      "/Users/anishsoni/Desktop/kaggle/images/train/Viral Pneumonia/05.jpeg\n",
      "/Users/anishsoni/Desktop/kaggle/images/train/Viral Pneumonia/034.jpeg\n",
      "/Users/anishsoni/Desktop/kaggle/images/train/Viral Pneumonia/063.jpeg\n",
      "/Users/anishsoni/Desktop/kaggle/images/train/Viral Pneumonia/075.jpeg\n",
      "/Users/anishsoni/Desktop/kaggle/images/train/Viral Pneumonia/022.jpeg\n",
      "/Users/anishsoni/Desktop/kaggle/images/train/Normal/06.jpeg\n",
      "/Users/anishsoni/Desktop/kaggle/images/train/Normal/060.jpeg\n",
      "/Users/anishsoni/Desktop/kaggle/images/train/Normal/076.jpeg\n",
      "/Users/anishsoni/Desktop/kaggle/images/train/Normal/021.jpeg\n",
      "/Users/anishsoni/Desktop/kaggle/images/train/Normal/056.jpeg\n",
      "/Users/anishsoni/Desktop/kaggle/images/train/Normal/017.jpeg\n",
      "/Users/anishsoni/Desktop/kaggle/images/train/Normal/083.jpeg\n",
      "/Users/anishsoni/Desktop/kaggle/images/train/Normal/095.jpeg\n",
      "/Users/anishsoni/Desktop/kaggle/images/train/Normal/094.jpeg\n",
      "/Users/anishsoni/Desktop/kaggle/images/train/Normal/082.jpeg\n",
      "/Users/anishsoni/Desktop/kaggle/images/train/Normal/016.jpeg\n",
      "/Users/anishsoni/Desktop/kaggle/images/train/Normal/057.jpeg\n",
      "/Users/anishsoni/Desktop/kaggle/images/train/Normal/020.jpeg\n",
      "/Users/anishsoni/Desktop/kaggle/images/train/Normal/077.jpeg\n",
      "/Users/anishsoni/Desktop/kaggle/images/train/Normal/061.jpeg\n",
      "/Users/anishsoni/Desktop/kaggle/images/train/Normal/07.jpeg\n",
      "/Users/anishsoni/Desktop/kaggle/images/train/Normal/050.jpeg\n",
      "/Users/anishsoni/Desktop/kaggle/images/train/Normal/011.jpeg\n",
      "/Users/anishsoni/Desktop/kaggle/images/train/Normal/085.jpeg\n",
      "/Users/anishsoni/Desktop/kaggle/images/train/Normal/093.jpeg\n",
      "/Users/anishsoni/Desktop/kaggle/images/train/Normal/066.jpeg\n",
      "/Users/anishsoni/Desktop/kaggle/images/train/Normal/070.jpeg\n",
      "/Users/anishsoni/Desktop/kaggle/images/train/Normal/071.jpeg\n",
      "/Users/anishsoni/Desktop/kaggle/images/train/Normal/067.jpeg\n",
      "/Users/anishsoni/Desktop/kaggle/images/train/Normal/088.jpeg\n",
      "/Users/anishsoni/Desktop/kaggle/images/train/Normal/01.jpeg\n",
      "/Users/anishsoni/Desktop/kaggle/images/train/Normal/092.jpeg\n",
      "/Users/anishsoni/Desktop/kaggle/images/train/Normal/084.jpeg\n",
      "/Users/anishsoni/Desktop/kaggle/images/train/Normal/010.jpeg\n",
      "/Users/anishsoni/Desktop/kaggle/images/train/Normal/051.jpeg\n",
      "/Users/anishsoni/Desktop/kaggle/images/train/Normal/091.jpeg\n",
      "/Users/anishsoni/Desktop/kaggle/images/train/Normal/087.jpeg\n",
      "/Users/anishsoni/Desktop/kaggle/images/train/Normal/068.jpeg\n",
      "/Users/anishsoni/Desktop/kaggle/images/train/Normal/013.jpeg\n",
      "/Users/anishsoni/Desktop/kaggle/images/train/Normal/052.jpeg\n",
      "/Users/anishsoni/Desktop/kaggle/images/train/Normal/025.jpeg\n",
      "/Users/anishsoni/Desktop/kaggle/images/train/Normal/072.jpeg\n",
      "/Users/anishsoni/Desktop/kaggle/images/train/Normal/064.jpeg\n",
      "/Users/anishsoni/Desktop/kaggle/images/train/Normal/02.jpeg\n",
      "/Users/anishsoni/Desktop/kaggle/images/train/Normal/03.jpeg\n",
      "/Users/anishsoni/Desktop/kaggle/images/train/Normal/065.jpeg\n",
      "/Users/anishsoni/Desktop/kaggle/images/train/Normal/073.jpeg\n",
      "/Users/anishsoni/Desktop/kaggle/images/train/Normal/024.jpeg\n",
      "/Users/anishsoni/Desktop/kaggle/images/train/Normal/053.jpeg\n",
      "/Users/anishsoni/Desktop/kaggle/images/train/Normal/012.jpeg\n",
      "/Users/anishsoni/Desktop/kaggle/images/train/Normal/086.jpeg\n",
      "/Users/anishsoni/Desktop/kaggle/images/train/Normal/069.jpeg\n",
      "/Users/anishsoni/Desktop/kaggle/images/train/Normal/023.jpeg\n",
      "/Users/anishsoni/Desktop/kaggle/images/train/Normal/074.jpeg\n",
      "/Users/anishsoni/Desktop/kaggle/images/train/Normal/062.jpeg\n",
      "/Users/anishsoni/Desktop/kaggle/images/train/Normal/019.jpeg\n",
      "/Users/anishsoni/Desktop/kaggle/images/train/Normal/04.jpeg\n",
      "/Users/anishsoni/Desktop/kaggle/images/train/Normal/058.jpeg\n",
      "/Users/anishsoni/Desktop/kaggle/images/train/Normal/097.jpeg\n",
      "/Users/anishsoni/Desktop/kaggle/images/train/Normal/081.jpeg\n",
      "/Users/anishsoni/Desktop/kaggle/images/train/Normal/015.jpeg\n",
      "/Users/anishsoni/Desktop/kaggle/images/train/Normal/08.jpeg\n",
      "/Users/anishsoni/Desktop/kaggle/images/train/Normal/054.jpeg\n",
      "/Users/anishsoni/Desktop/kaggle/images/train/Normal/055.jpeg\n",
      "/Users/anishsoni/Desktop/kaggle/images/train/Normal/014.jpeg\n",
      "/Users/anishsoni/Desktop/kaggle/images/train/Normal/09.jpeg\n",
      "/Users/anishsoni/Desktop/kaggle/images/train/Normal/080.jpeg\n",
      "/Users/anishsoni/Desktop/kaggle/images/train/Normal/096.jpeg\n",
      "/Users/anishsoni/Desktop/kaggle/images/train/Normal/079.jpeg\n",
      "/Users/anishsoni/Desktop/kaggle/images/train/Normal/059.jpeg\n",
      "/Users/anishsoni/Desktop/kaggle/images/train/Normal/018.jpeg\n",
      "/Users/anishsoni/Desktop/kaggle/images/train/Normal/05.jpeg\n",
      "/Users/anishsoni/Desktop/kaggle/images/train/Normal/063.jpeg\n",
      "/Users/anishsoni/Desktop/kaggle/images/train/Normal/075.jpeg\n",
      "/Users/anishsoni/Desktop/kaggle/images/train/Normal/022.jpeg\n",
      "/Users/anishsoni/Desktop/kaggle/images/train/Covid/COVID-00006.jpg\n",
      "/Users/anishsoni/Desktop/kaggle/images/train/Covid/COVID-00012.jpg\n",
      "/Users/anishsoni/Desktop/kaggle/images/train/Covid/06.jpeg\n",
      "/Users/anishsoni/Desktop/kaggle/images/train/Covid/060.jpeg\n",
      "/Users/anishsoni/Desktop/kaggle/images/train/Covid/COVID-00007.jpg\n",
      "/Users/anishsoni/Desktop/kaggle/images/train/Covid/021.jpeg\n",
      "/Users/anishsoni/Desktop/kaggle/images/train/Covid/COVID-00011.jpg\n",
      "/Users/anishsoni/Desktop/kaggle/images/train/Covid/COVID-00005.jpg\n",
      "/Users/anishsoni/Desktop/kaggle/images/train/Covid/040.jpeg\n",
      "/Users/anishsoni/Desktop/kaggle/images/train/Covid/015.jpg\n",
      "/Users/anishsoni/Desktop/kaggle/images/train/Covid/083.jpeg\n",
      "/Users/anishsoni/Desktop/kaggle/images/train/Covid/COVID-00038.jpg\n",
      "/Users/anishsoni/Desktop/kaggle/images/train/Covid/COVID-00004.jpg\n",
      "/Users/anishsoni/Desktop/kaggle/images/train/Covid/COVID-00010.jpg\n",
      "/Users/anishsoni/Desktop/kaggle/images/train/Covid/COVID-00028.jpg\n",
      "/Users/anishsoni/Desktop/kaggle/images/train/Covid/COVID-00014.jpg\n",
      "/Users/anishsoni/Desktop/kaggle/images/train/Covid/010.png\n",
      "/Users/anishsoni/Desktop/kaggle/images/train/Covid/041.jpeg\n",
      "/Users/anishsoni/Desktop/kaggle/images/train/Covid/COVID-00001.jpg\n",
      "/Users/anishsoni/Desktop/kaggle/images/train/Covid/COVID-00029.jpg\n",
      "/Users/anishsoni/Desktop/kaggle/images/train/Covid/057.jpeg\n",
      "/Users/anishsoni/Desktop/kaggle/images/train/Covid/COVID-00017.jpg\n",
      "/Users/anishsoni/Desktop/kaggle/images/train/Covid/COVID-00016.jpg\n",
      "/Users/anishsoni/Desktop/kaggle/images/train/Covid/COVID-00002.jpg\n",
      "/Users/anishsoni/Desktop/kaggle/images/train/Covid/050.jpeg\n",
      "/Users/anishsoni/Desktop/kaggle/images/train/Covid/046.jpeg\n",
      "/Users/anishsoni/Desktop/kaggle/images/train/Covid/061.jpg\n",
      "/Users/anishsoni/Desktop/kaggle/images/train/Covid/074.jpg\n",
      "/Users/anishsoni/Desktop/kaggle/images/train/Covid/085.jpeg\n",
      "/Users/anishsoni/Desktop/kaggle/images/train/Covid/089.jpg\n",
      "/Users/anishsoni/Desktop/kaggle/images/train/Covid/076.jpg\n",
      "/Users/anishsoni/Desktop/kaggle/images/train/Covid/031.jpeg\n",
      "/Users/anishsoni/Desktop/kaggle/images/train/Covid/027.jpeg\n",
      "/Users/anishsoni/Desktop/kaggle/images/train/Covid/026.jpeg\n",
      "/Users/anishsoni/Desktop/kaggle/images/train/Covid/088.jpeg\n",
      "/Users/anishsoni/Desktop/kaggle/images/train/Covid/067.jpg\n",
      "/Users/anishsoni/Desktop/kaggle/images/train/Covid/073.jpg\n",
      "/Users/anishsoni/Desktop/kaggle/images/train/Covid/01.jpeg\n",
      "/Users/anishsoni/Desktop/kaggle/images/train/Covid/07.jpg\n",
      "/Users/anishsoni/Desktop/kaggle/images/train/Covid/084.jpeg\n",
      "/Users/anishsoni/Desktop/kaggle/images/train/Covid/064.jpg\n",
      "/Users/anishsoni/Desktop/kaggle/images/train/Covid/071.jpg\n",
      "/Users/anishsoni/Desktop/kaggle/images/train/Covid/047.jpeg\n",
      "/Users/anishsoni/Desktop/kaggle/images/train/Covid/04.png\n",
      "/Users/anishsoni/Desktop/kaggle/images/train/Covid/051.jpeg\n",
      "/Users/anishsoni/Desktop/kaggle/images/train/Covid/09.png\n",
      "/Users/anishsoni/Desktop/kaggle/images/train/Covid/068.jpg\n",
      "/Users/anishsoni/Desktop/kaggle/images/train/Covid/069.jpg\n",
      "/Users/anishsoni/Desktop/kaggle/images/train/Covid/044.jpeg\n",
      "/Users/anishsoni/Desktop/kaggle/images/train/Covid/082.jpg\n",
      "/Users/anishsoni/Desktop/kaggle/images/train/Covid/052.jpeg\n",
      "/Users/anishsoni/Desktop/kaggle/images/train/Covid/025.jpeg\n",
      "/Users/anishsoni/Desktop/kaggle/images/train/Covid/072.jpeg\n",
      "/Users/anishsoni/Desktop/kaggle/images/train/Covid/080.jpg\n",
      "/Users/anishsoni/Desktop/kaggle/images/train/Covid/056.jpg\n",
      "/Users/anishsoni/Desktop/kaggle/images/train/Covid/048.jpeg\n",
      "/Users/anishsoni/Desktop/kaggle/images/train/Covid/02.jpeg\n",
      "/Users/anishsoni/Desktop/kaggle/images/train/Covid/03.jpeg\n",
      "/Users/anishsoni/Desktop/kaggle/images/train/Covid/091.jpg\n",
      "/Users/anishsoni/Desktop/kaggle/images/train/Covid/049.jpeg\n",
      "/Users/anishsoni/Desktop/kaggle/images/train/Covid/032.jpeg\n",
      "/Users/anishsoni/Desktop/kaggle/images/train/Covid/065.jpeg\n",
      "/Users/anishsoni/Desktop/kaggle/images/train/Covid/COVID-00013b.jpg\n",
      "/Users/anishsoni/Desktop/kaggle/images/train/Covid/024.jpeg\n",
      "/Users/anishsoni/Desktop/kaggle/images/train/Covid/053.jpeg\n",
      "/Users/anishsoni/Desktop/kaggle/images/train/Covid/012.jpeg\n",
      "/Users/anishsoni/Desktop/kaggle/images/train/Covid/092.png\n",
      "/Users/anishsoni/Desktop/kaggle/images/train/Covid/045.jpeg\n",
      "/Users/anishsoni/Desktop/kaggle/images/train/Covid/086.jpg\n",
      "/Users/anishsoni/Desktop/kaggle/images/train/Covid/090.jpeg\n",
      "/Users/anishsoni/Desktop/kaggle/images/train/Covid/COVID-00013a.jpg\n",
      "/Users/anishsoni/Desktop/kaggle/images/train/Covid/COVID-00027.jpg\n",
      "/Users/anishsoni/Desktop/kaggle/images/train/Covid/COVID-00033.jpg\n",
      "/Users/anishsoni/Desktop/kaggle/images/train/Covid/062.jpeg\n",
      "/Users/anishsoni/Desktop/kaggle/images/train/Covid/COVID-00032.jpg\n",
      "/Users/anishsoni/Desktop/kaggle/images/train/Covid/COVID-00026.jpg\n",
      "/Users/anishsoni/Desktop/kaggle/images/train/Covid/058.jpeg\n",
      "/Users/anishsoni/Desktop/kaggle/images/train/Covid/COVID-00030.jpg\n",
      "/Users/anishsoni/Desktop/kaggle/images/train/Covid/COVID-00024.jpg\n",
      "/Users/anishsoni/Desktop/kaggle/images/train/Covid/078.jpeg\n",
      "/Users/anishsoni/Desktop/kaggle/images/train/Covid/COVID-00018.jpg\n",
      "/Users/anishsoni/Desktop/kaggle/images/train/Covid/081.jpeg\n",
      "/Users/anishsoni/Desktop/kaggle/images/train/Covid/020.jpg\n",
      "/Users/anishsoni/Desktop/kaggle/images/train/Covid/039.jpeg\n",
      "/Users/anishsoni/Desktop/kaggle/images/train/Covid/042.jpeg\n",
      "/Users/anishsoni/Desktop/kaggle/images/train/Covid/08.jpeg\n",
      "/Users/anishsoni/Desktop/kaggle/images/train/Covid/COVID-00019.jpg\n",
      "/Users/anishsoni/Desktop/kaggle/images/train/Covid/COVID-00025.jpg\n",
      "/Users/anishsoni/Desktop/kaggle/images/train/Covid/COVID-00031.jpg\n",
      "/Users/anishsoni/Desktop/kaggle/images/train/Covid/054.jpeg\n",
      "/Users/anishsoni/Desktop/kaggle/images/train/Covid/055.jpeg\n",
      "/Users/anishsoni/Desktop/kaggle/images/train/Covid/COVID-00009.jpg\n",
      "/Users/anishsoni/Desktop/kaggle/images/train/Covid/COVID-00035.jpg\n",
      "/Users/anishsoni/Desktop/kaggle/images/train/Covid/COVID-00021.jpg\n",
      "/Users/anishsoni/Desktop/kaggle/images/train/Covid/019.png\n",
      "/Users/anishsoni/Desktop/kaggle/images/train/Covid/043.jpeg\n",
      "/Users/anishsoni/Desktop/kaggle/images/train/Covid/COVID-00003a.jpg\n",
      "/Users/anishsoni/Desktop/kaggle/images/train/Covid/COVID-00020.jpg\n",
      "/Users/anishsoni/Desktop/kaggle/images/train/Covid/COVID-00034.jpg\n",
      "/Users/anishsoni/Desktop/kaggle/images/train/Covid/079.jpeg\n",
      "/Users/anishsoni/Desktop/kaggle/images/train/Covid/COVID-00008.jpg\n",
      "/Users/anishsoni/Desktop/kaggle/images/train/Covid/COVID-00015a.png\n",
      "/Users/anishsoni/Desktop/kaggle/images/train/Covid/059.jpeg\n",
      "/Users/anishsoni/Desktop/kaggle/images/train/Covid/COVID-00022.jpg\n",
      "/Users/anishsoni/Desktop/kaggle/images/train/Covid/COVID-00036.jpg\n",
      "/Users/anishsoni/Desktop/kaggle/images/train/Covid/COVID-00003b.jpg\n",
      "/Users/anishsoni/Desktop/kaggle/images/train/Covid/033.png\n",
      "/Users/anishsoni/Desktop/kaggle/images/train/Covid/COVID-00037.jpg\n",
      "/Users/anishsoni/Desktop/kaggle/images/train/Covid/COVID-00023.jpg\n",
      "/Users/anishsoni/Desktop/kaggle/images/train/Covid/COVID-00015b.png\n",
      "/Users/anishsoni/Desktop/kaggle/images/train/Covid/022.jpeg\n"
     ]
    }
   ],
   "source": [
    "import os\n",
    "for dirname, _, filenames in os.walk('/Users/anishsoni/Desktop/kaggle/images'):\n",
    "    for filename in filenames:\n",
    "        print(os.path.join(dirname, filename))"
   ]
  },
  {
   "cell_type": "markdown",
   "id": "0055edbb",
   "metadata": {},
   "source": [
    "## importing the dependencies"
   ]
  },
  {
   "cell_type": "code",
   "execution_count": 14,
   "id": "90b2c837",
   "metadata": {},
   "outputs": [],
   "source": [
    "from tensorflow.keras.layers import Dense,Flatten,MaxPool2D,Dropout,Conv2D,InputLayer\n",
    "from tensorflow.keras.preprocessing.image import load_img\n",
    "from tensorflow.keras.models import Sequential\n",
    "from tensorflow.keras.utils import to_categorical\n",
    "from tensorflow.keras.optimizers import Adam\n",
    "from sklearn.metrics import classification_report\n",
    "from sklearn.preprocessing import LabelBinarizer\n",
    "import pandas as pd\n",
    "import numpy as np\n",
    "import matplotlib.pyplot as plt\n",
    "%matplotlib inline\n",
    "import cv2\n",
    "import os"
   ]
  },
  {
   "cell_type": "markdown",
   "id": "de2c3050",
   "metadata": {},
   "source": [
    "## Import the train and test datasets"
   ]
  },
  {
   "cell_type": "code",
   "execution_count": 19,
   "id": "ca0e54de",
   "metadata": {},
   "outputs": [],
   "source": [
    "train_dir=\"/Users/anishsoni/Desktop/kaggle/images/train\"\n",
    "test_dir=\"/Users/anishsoni/Desktop/kaggle/images/test\""
   ]
  },
  {
   "cell_type": "code",
   "execution_count": 20,
   "id": "4706db5f",
   "metadata": {},
   "outputs": [],
   "source": [
    "categories = ['Covid','Normal']\n",
    "y_train = []\n",
    "x_train = []\n",
    "x_test = []\n",
    "y_test = []\n",
    "Batch_Size = 32\n",
    "INIT_LR = 1e-4\n",
    "EPOCHES = 10"
   ]
  },
  {
   "cell_type": "markdown",
   "id": "2f6445b1",
   "metadata": {},
   "source": [
    "## Reading the Images from the Train Dataset"
   ]
  },
  {
   "cell_type": "code",
   "execution_count": 21,
   "id": "03e6ae9a",
   "metadata": {},
   "outputs": [
    {
     "name": "stdout",
     "output_type": "stream",
     "text": [
      "1806\n",
      "1375\n",
      "3\n"
     ]
    }
   ],
   "source": [
    "im = cv2.imread ('/Users/anishsoni/Desktop/kaggle/images/train/Covid/COVID-00013b.jpg')\n",
    "h,w,c = im.shape\n",
    "print(w)\n",
    "print(h)\n",
    "print(c)"
   ]
  },
  {
   "cell_type": "code",
   "execution_count": 22,
   "id": "3de7d686",
   "metadata": {},
   "outputs": [],
   "source": [
    "for category in categories:\n",
    "    path = os.path.join(train_dir,category)\n",
    "    for img in os.listdir(path):\n",
    "        img_path = os.path.join(path,img)\n",
    "        image = cv2.imread(img_path)\n",
    "        image = cv2.resize(image,(500,500))\n",
    "        image = image / 255\n",
    "        x_train.append(image)\n",
    "        y_train.append(category)"
   ]
  },
  {
   "cell_type": "code",
   "execution_count": 23,
   "id": "d0ab49cb",
   "metadata": {},
   "outputs": [
    {
     "data": {
      "text/plain": [
       "array([[[0.03921569, 0.03921569, 0.03921569],\n",
       "        [0.04313725, 0.04313725, 0.04313725],\n",
       "        [0.04705882, 0.04705882, 0.04705882],\n",
       "        ...,\n",
       "        [0.04313725, 0.04313725, 0.04313725],\n",
       "        [0.05490196, 0.05490196, 0.05490196],\n",
       "        [0.04313725, 0.04313725, 0.04313725]],\n",
       "\n",
       "       [[0.05098039, 0.05098039, 0.05098039],\n",
       "        [0.03137255, 0.03137255, 0.03137255],\n",
       "        [0.03921569, 0.03921569, 0.03921569],\n",
       "        ...,\n",
       "        [0.05882353, 0.05882353, 0.05882353],\n",
       "        [0.03529412, 0.03529412, 0.03529412],\n",
       "        [0.04705882, 0.04705882, 0.04705882]],\n",
       "\n",
       "       [[0.03529412, 0.03529412, 0.03529412],\n",
       "        [0.05490196, 0.05490196, 0.05490196],\n",
       "        [0.04313725, 0.04313725, 0.04313725],\n",
       "        ...,\n",
       "        [0.03529412, 0.03529412, 0.03529412],\n",
       "        [0.03921569, 0.03921569, 0.03921569],\n",
       "        [0.05882353, 0.05882353, 0.05882353]],\n",
       "\n",
       "       ...,\n",
       "\n",
       "       [[0.38823529, 0.38823529, 0.38823529],\n",
       "        [0.39607843, 0.39607843, 0.39607843],\n",
       "        [0.40392157, 0.40392157, 0.40392157],\n",
       "        ...,\n",
       "        [0.3372549 , 0.3372549 , 0.3372549 ],\n",
       "        [0.3372549 , 0.3372549 , 0.3372549 ],\n",
       "        [0.32941176, 0.32941176, 0.32941176]],\n",
       "\n",
       "       [[0.4       , 0.4       , 0.4       ],\n",
       "        [0.40784314, 0.40784314, 0.40784314],\n",
       "        [0.41568627, 0.41568627, 0.41568627],\n",
       "        ...,\n",
       "        [0.3372549 , 0.3372549 , 0.3372549 ],\n",
       "        [0.34117647, 0.34117647, 0.34117647],\n",
       "        [0.3254902 , 0.3254902 , 0.3254902 ]],\n",
       "\n",
       "       [[0.4       , 0.4       , 0.4       ],\n",
       "        [0.40784314, 0.40784314, 0.40784314],\n",
       "        [0.43137255, 0.43137255, 0.43137255],\n",
       "        ...,\n",
       "        [0.32156863, 0.32156863, 0.32156863],\n",
       "        [0.32941176, 0.32941176, 0.32941176],\n",
       "        [0.34117647, 0.34117647, 0.34117647]]])"
      ]
     },
     "execution_count": 23,
     "metadata": {},
     "output_type": "execute_result"
    }
   ],
   "source": [
    "x_train[0]"
   ]
  },
  {
   "cell_type": "code",
   "execution_count": 24,
   "id": "a1a40e7b",
   "metadata": {},
   "outputs": [
    {
     "data": {
      "text/plain": [
       "['Covid', 'Covid', 'Covid', 'Covid', 'Covid']"
      ]
     },
     "execution_count": 24,
     "metadata": {},
     "output_type": "execute_result"
    }
   ],
   "source": [
    "y_train[:5]"
   ]
  },
  {
   "cell_type": "markdown",
   "id": "623391f1",
   "metadata": {},
   "source": [
    "## Reading the Images from the Test Dataset"
   ]
  },
  {
   "cell_type": "code",
   "execution_count": 25,
   "id": "c27ad045",
   "metadata": {},
   "outputs": [],
   "source": [
    "for category in categories:\n",
    "    path = os.path.join(test_dir,category)\n",
    "    for img in os.listdir(path):\n",
    "        img_path = os.path.join(path,img)\n",
    "        image = cv2.imread(img_path)\n",
    "        image = cv2.resize(image,(500,500))\n",
    "        image = image / 255\n",
    "        x_test.append(image)\n",
    "        y_test.append(category)"
   ]
  },
  {
   "cell_type": "code",
   "execution_count": 26,
   "id": "5254a627",
   "metadata": {},
   "outputs": [
    {
     "data": {
      "text/plain": [
       "array([[[0., 0., 0.],\n",
       "        [0., 0., 0.],\n",
       "        [0., 0., 0.],\n",
       "        ...,\n",
       "        [0., 0., 0.],\n",
       "        [0., 0., 0.],\n",
       "        [0., 0., 0.]],\n",
       "\n",
       "       [[0., 0., 0.],\n",
       "        [0., 0., 0.],\n",
       "        [0., 0., 0.],\n",
       "        ...,\n",
       "        [0., 0., 0.],\n",
       "        [0., 0., 0.],\n",
       "        [0., 0., 0.]],\n",
       "\n",
       "       [[0., 0., 0.],\n",
       "        [0., 0., 0.],\n",
       "        [0., 0., 0.],\n",
       "        ...,\n",
       "        [0., 0., 0.],\n",
       "        [0., 0., 0.],\n",
       "        [0., 0., 0.]],\n",
       "\n",
       "       ...,\n",
       "\n",
       "       [[0., 0., 0.],\n",
       "        [0., 0., 0.],\n",
       "        [0., 0., 0.],\n",
       "        ...,\n",
       "        [0., 0., 0.],\n",
       "        [0., 0., 0.],\n",
       "        [0., 0., 0.]],\n",
       "\n",
       "       [[0., 0., 0.],\n",
       "        [0., 0., 0.],\n",
       "        [0., 0., 0.],\n",
       "        ...,\n",
       "        [0., 0., 0.],\n",
       "        [0., 0., 0.],\n",
       "        [0., 0., 0.]],\n",
       "\n",
       "       [[0., 0., 0.],\n",
       "        [0., 0., 0.],\n",
       "        [0., 0., 0.],\n",
       "        ...,\n",
       "        [0., 0., 0.],\n",
       "        [0., 0., 0.],\n",
       "        [0., 0., 0.]]])"
      ]
     },
     "execution_count": 26,
     "metadata": {},
     "output_type": "execute_result"
    }
   ],
   "source": [
    "x_test[0]"
   ]
  },
  {
   "cell_type": "code",
   "execution_count": 27,
   "id": "0e486a97",
   "metadata": {},
   "outputs": [
    {
     "data": {
      "text/plain": [
       "['Covid', 'Covid', 'Covid', 'Covid', 'Covid']"
      ]
     },
     "execution_count": 27,
     "metadata": {},
     "output_type": "execute_result"
    }
   ],
   "source": [
    "y_test[:5]"
   ]
  },
  {
   "cell_type": "markdown",
   "id": "ac285d99",
   "metadata": {},
   "source": [
    "## Preprocessing The Data And Label"
   ]
  },
  {
   "cell_type": "code",
   "execution_count": 28,
   "id": "9d577b2d",
   "metadata": {},
   "outputs": [],
   "source": [
    "lb = LabelBinarizer()\n",
    "y_train = lb.fit_transform(y_train)\n",
    "y_train = to_categorical(y_train,num_classes=2)\n",
    "y_test = lb.fit_transform(y_test)\n",
    "y_test = to_categorical(y_test,num_classes=2)"
   ]
  },
  {
   "cell_type": "code",
   "execution_count": 29,
   "id": "d39906fd",
   "metadata": {},
   "outputs": [],
   "source": [
    "x_train = np.array(x_train,dtype='float32')\n",
    "y_train = np.array(y_train,dtype='float32')\n",
    "x_test = np.array(x_test,dtype='float32')\n",
    "y_test = np.array(y_test,dtype='float32')"
   ]
  },
  {
   "cell_type": "markdown",
   "id": "1864e8f0",
   "metadata": {},
   "source": [
    "## Creating the CNN Model"
   ]
  },
  {
   "cell_type": "code",
   "execution_count": 30,
   "id": "ee1441d2",
   "metadata": {},
   "outputs": [],
   "source": [
    "model = Sequential()\n",
    "model.add(InputLayer(input_shape=(500,500,3)))\n",
    "model.add(Conv2D(32,kernel_size=(2,2),activation='relu'))\n",
    "model.add(MaxPool2D(pool_size=(2,2)))\n",
    "model.add(Conv2D(64,kernel_size=(2,2),activation='relu'))\n",
    "model.add(MaxPool2D(pool_size=(2,2)))\n",
    "model.add(Conv2D(128,kernel_size=(2,2),activation='relu'))\n",
    "model.add(MaxPool2D(pool_size=(2,2)))\n",
    "model.add(Flatten())\n",
    "model.add(Dense(128,activation='relu'))\n",
    "model.add(Dropout(.5))\n",
    "model.add(Dense(2,activation='softmax'))"
   ]
  },
  {
   "cell_type": "markdown",
   "id": "f9a693e2",
   "metadata": {},
   "source": [
    "## Compiling the Model"
   ]
  },
  {
   "cell_type": "code",
   "execution_count": 31,
   "id": "46fb4c7a",
   "metadata": {},
   "outputs": [
    {
     "name": "stderr",
     "output_type": "stream",
     "text": [
      "WARNING:absl:At this time, the v2.11+ optimizer `tf.keras.optimizers.Adam` runs slowly on M1/M2 Macs, please use the legacy Keras optimizer instead, located at `tf.keras.optimizers.legacy.Adam`.\n"
     ]
    }
   ],
   "source": [
    "#Regularization\n",
    "opt = Adam(learning_rate=INIT_LR,weight_decay=INIT_LR/Batch_Size)"
   ]
  },
  {
   "cell_type": "code",
   "execution_count": 32,
   "id": "b95c48d0",
   "metadata": {},
   "outputs": [
    {
     "name": "stderr",
     "output_type": "stream",
     "text": [
      "WARNING:absl:There is a known slowdown when using v2.11+ Keras optimizers on M1/M2 Macs. Falling back to the legacy Keras optimizer, i.e., `tf.keras.optimizers.legacy.Adam`.\n"
     ]
    }
   ],
   "source": [
    "model.compile(optimizer=opt,loss='categorical_crossentropy',metrics=['accuracy'])"
   ]
  },
  {
   "cell_type": "code",
   "execution_count": 33,
   "id": "668fea4a",
   "metadata": {},
   "outputs": [
    {
     "name": "stdout",
     "output_type": "stream",
     "text": [
      "Epoch 1/10\n",
      "5/5 [==============================] - 28s 5s/step - loss: 0.6104 - accuracy: 0.6375\n",
      "Epoch 2/10\n",
      "5/5 [==============================] - 22s 5s/step - loss: 0.3127 - accuracy: 0.8591\n",
      "Epoch 3/10\n",
      "5/5 [==============================] - 28s 5s/step - loss: 0.2775 - accuracy: 0.9060\n",
      "Epoch 4/10\n",
      "5/5 [==============================] - 23s 4s/step - loss: 0.1937 - accuracy: 0.9128\n",
      "Epoch 5/10\n",
      "5/5 [==============================] - 30s 5s/step - loss: 0.2018 - accuracy: 0.9128\n",
      "Epoch 6/10\n",
      "5/5 [==============================] - 33s 7s/step - loss: 0.1787 - accuracy: 0.9128\n",
      "Epoch 7/10\n",
      "5/5 [==============================] - 47s 9s/step - loss: 0.1392 - accuracy: 0.9500\n",
      "Epoch 8/10\n",
      "5/5 [==============================] - 26s 6s/step - loss: 0.1190 - accuracy: 0.9530\n",
      "Epoch 9/10\n",
      "5/5 [==============================] - 26s 5s/step - loss: 0.1006 - accuracy: 0.9664\n",
      "Epoch 10/10\n",
      "5/5 [==============================] - 24s 5s/step - loss: 0.1112 - accuracy: 0.9732\n"
     ]
    }
   ],
   "source": [
    "validation_steps = len(y_test) // Batch_Size\n",
    "History = model.fit(\n",
    "    x_train,\n",
    "    y_train,\n",
    "    epochs=EPOCHES,\n",
    "    steps_per_epoch=len(x_train)//Batch_Size,\n",
    "    batch_size=Batch_Size,\n",
    "    validation_steps=validation_steps\n",
    ")"
   ]
  },
  {
   "cell_type": "code",
   "execution_count": 34,
   "id": "76959e00",
   "metadata": {},
   "outputs": [
    {
     "name": "stdout",
     "output_type": "stream",
     "text": [
      "2/2 [==============================] - 2s 523ms/step\n"
     ]
    }
   ],
   "source": [
    "pred_result = model.predict(x_test,batch_size=Batch_Size)\n",
    "pred_result = np.argmax(pred_result,axis=1)"
   ]
  },
  {
   "cell_type": "code",
   "execution_count": 35,
   "id": "2d95330b",
   "metadata": {},
   "outputs": [
    {
     "name": "stdout",
     "output_type": "stream",
     "text": [
      "Classifiation Report:\n",
      "               precision    recall  f1-score   support\n",
      "\n",
      "       Covid       1.00      0.88      0.94        26\n",
      "      Normal       0.87      1.00      0.93        20\n",
      "\n",
      "    accuracy                           0.93        46\n",
      "   macro avg       0.93      0.94      0.93        46\n",
      "weighted avg       0.94      0.93      0.94        46\n",
      "\n"
     ]
    }
   ],
   "source": [
    "print(f\"Classification Report:\\n {classification_report(y_test.argmax(axis=1),pred_result,target_names=lb.classes_)}\")\n"
   ]
  },
  {
   "cell_type": "code",
   "execution_count": 36,
   "id": "9f73be76",
   "metadata": {},
   "outputs": [
    {
     "data": {
      "image/png": "[encoded data removed]",
      "text/plain": [
       "<Figure size 1000x600 with 1 Axes>"
      ]
     },
     "metadata": {},
     "output_type": "display_data"
    }
   ],
   "source": [
    "plt.figure(figsize=(10,6))\n",
    "plt.plot(np.arange(0,10),History.history['accuracy'],label='train_accuracy')\n",
    "plt.plot(np.arange(0,10),History.history['loss'],label='train_loss')\n",
    "plt.xlabel('Epoches')\n",
    "plt.ylabel('Loss-Accuracy')\n",
    "plt.title('Training Process')\n",
    "plt.legend(loc='lower left')\n",
    "plt.show()"
   ]
  },
  {
   "cell_type": "code",
   "execution_count": null,
   "id": "6330f7d6",
   "metadata": {},
   "outputs": [],
   "source": []
  }
 ],
 "metadata": {
  "kernelspec": {
   "display_name": "Python 3 (ipykernel)",
   "language": "python",
   "name": "python3"
  },
  "language_info": {
   "codemirror_mode": {
    "name": "ipython",
    "version": 3
   },
   "file_extension": ".py",
   "mimetype": "text/x-python",
   "name": "python",
   "nbconvert_exporter": "python",
   "pygments_lexer": "ipython3",
   "version": "3.10.9"
  }
 },
 "nbformat": 4,
 "nbformat_minor": 5
}
