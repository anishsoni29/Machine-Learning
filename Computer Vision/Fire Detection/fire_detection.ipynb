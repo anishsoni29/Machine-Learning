{
 "cells": [
  {
   "cell_type": "markdown",
   "id": "e258cf98",
   "metadata": {},
   "source": [
    "## Importing the libraries"
   ]
  },
  {
   "cell_type": "code",
   "execution_count": 4,
   "id": "a6478de1",
   "metadata": {},
   "outputs": [],
   "source": [
    "import datetime as dt\n",
    "import pandas as pd\n",
    "import numpy as np\n",
    "import matplotlib.pyplot as plt\n",
    "import seaborn as sns\n",
    "plt.style.use('fivethirtyeight')\n",
    "sns.set_style('whitegrid')\n",
    "import os\n",
    "from keras.applications import xception\n",
    "from keras.preprocessing import image\n",
    "from mpl_toolkits.axes_grid1 import ImageGrid\n",
    "from sklearn.linear_model import LogisticRegression\n",
    "from sklearn.metrics import accuracy_score, confusion_matrix\n",
    "from sklearn.model_selection import train_test_split, RandomizedSearchCV\n",
    "from sklearn.metrics import accuracy_score, confusion_matrix, classification_report\n",
    "\n",
    "import cv2\n",
    "from scipy.stats import uniform\n",
    "\n",
    "from tqdm import tqdm\n",
    "from glob import glob\n",
    "\n",
    "from keras.utils import to_categorical\n",
    "from keras.models import Model, Sequential\n",
    "from keras.layers import LSTM, Activation, Dense, Dropout, Input, Embedding, Masking\n",
    "# from keras.utils import np_utils, to_categorical\n",
    "\n",
    "from IPython.core.interactiveshell import InteractiveShell\n",
    "InteractiveShell.ast_node_interactivity = \"all\""
   ]
  },
  {
   "cell_type": "code",
   "execution_count": 5,
   "id": "3b4b3989",
   "metadata": {},
   "outputs": [
    {
     "name": "stdout",
     "output_type": "stream",
     "text": [
      "zsh:1: no matches found: ../input/keras-pretrained-models/xception*\n",
      "xception_weights_tf_dim_ordering_tf_kernels_notop.h5\n"
     ]
    }
   ],
   "source": [
    "#copying the pretrained models to the cache directory\n",
    "cache_dir = os.path.expanduser(os.path.join('~', '.keras'))\n",
    "if not os.path.exists(cache_dir):\n",
    "    os.makedirs(cache_dir)\n",
    "models_dir = os.path.join(cache_dir, 'models')\n",
    "if not os.path.exists(models_dir):\n",
    "    os.makedirs(models_dir)\n",
    "\n",
    "#copy the Xception models\n",
    "!cp ../input/keras-pretrained-models/xception* ~/.keras/models/\n",
    "#show\n",
    "!ls ~/.keras/models"
   ]
  },
  {
   "cell_type": "code",
   "execution_count": 6,
   "id": "0f245be9",
   "metadata": {},
   "outputs": [],
   "source": [
    "base_folder = '../input/fire-dataset'\n",
    "data_folder = '../input/fire-dataset/fire_dataset'\n",
    "train_data_folder = '../input/fire-dataset/fire_dataset/fire_images'\n",
    "test_date_folder  = '../input/fire-dataset/fire_dataset/non_fire_images'\n",
    "\n",
    "categories = ['fire_images', 'non_fire_images']\n",
    "len_categories = len(categories)"
   ]
  },
  {
   "cell_type": "code",
   "execution_count": 7,
   "id": "70e07fc6",
   "metadata": {},
   "outputs": [
    {
     "name": "stderr",
     "output_type": "stream",
     "text": [
      "0it [00:00, ?it/s]\n"
     ]
    },
    {
     "ename": "FileNotFoundError",
     "evalue": "[Errno 2] No such file or directory: '../input/fire-dataset/fire_dataset/fire_images'",
     "output_type": "error",
     "traceback": [
      "\u001b[0;31m---------------------------------------------------------------------------\u001b[0m",
      "\u001b[0;31mFileNotFoundError\u001b[0m                         Traceback (most recent call last)",
      "Cell \u001b[0;32mIn[7], line 9\u001b[0m\n\u001b[1;32m      6\u001b[0m label \u001b[38;5;241m=\u001b[39m category\n\u001b[1;32m      7\u001b[0m image_count[category] \u001b[38;5;241m=\u001b[39m []\n\u001b[0;32m----> 9\u001b[0m \u001b[38;5;28;01mfor\u001b[39;00m path \u001b[38;5;129;01min\u001b[39;00m \u001b[43mos\u001b[49m\u001b[38;5;241;43m.\u001b[39;49m\u001b[43mlistdir\u001b[49m\u001b[43m(\u001b[49m\u001b[43mos\u001b[49m\u001b[38;5;241;43m.\u001b[39;49m\u001b[43mpath\u001b[49m\u001b[38;5;241;43m.\u001b[39;49m\u001b[43mjoin\u001b[49m\u001b[43m(\u001b[49m\u001b[43mclass_folder\u001b[49m\u001b[43m)\u001b[49m\u001b[43m)\u001b[49m:\n\u001b[1;32m     10\u001b[0m     image_count[category]\u001b[38;5;241m.\u001b[39mappend(category)\n\u001b[1;32m     11\u001b[0m     train_data\u001b[38;5;241m.\u001b[39mappend([\u001b[38;5;124m'\u001b[39m\u001b[38;5;132;01m{}\u001b[39;00m\u001b[38;5;124m/\u001b[39m\u001b[38;5;132;01m{}\u001b[39;00m\u001b[38;5;124m'\u001b[39m\u001b[38;5;241m.\u001b[39mformat(category, path), i, category])\n",
      "\u001b[0;31mFileNotFoundError\u001b[0m: [Errno 2] No such file or directory: '../input/fire-dataset/fire_dataset/fire_images'"
     ]
    }
   ],
   "source": [
    "image_count = {}\n",
    "train_data = []\n",
    "\n",
    "for i , category in tqdm(enumerate(categories)):\n",
    "    class_folder = os.path.join(data_folder, category)\n",
    "    label = category\n",
    "    image_count[category] = []\n",
    "    \n",
    "    for path in os.listdir(os.path.join(class_folder)):\n",
    "        image_count[category].append(category)\n",
    "        train_data.append(['{}/{}'.format(category, path), i, category])\n",
    "    "
   ]
  },
  {
   "cell_type": "code",
   "execution_count": null,
   "id": "df3e94dd",
   "metadata": {},
   "outputs": [],
   "source": [
    "#show image count\n",
    "for key, value in image_count.items():\n",
    "    print('{0} -> {1}'.format(key, len(value)))"
   ]
  },
  {
   "cell_type": "code",
   "execution_count": 1,
   "id": "eacc37e1",
   "metadata": {},
   "outputs": [
    {
     "ename": "NameError",
     "evalue": "name 'pd' is not defined",
     "output_type": "error",
     "traceback": [
      "\u001b[0;31m---------------------------------------------------------------------------\u001b[0m",
      "\u001b[0;31mNameError\u001b[0m                                 Traceback (most recent call last)",
      "Cell \u001b[0;32mIn[1], line 2\u001b[0m\n\u001b[1;32m      1\u001b[0m \u001b[38;5;66;03m#create a dataframe\u001b[39;00m\n\u001b[0;32m----> 2\u001b[0m df \u001b[38;5;241m=\u001b[39m \u001b[43mpd\u001b[49m\u001b[38;5;241m.\u001b[39mDataFrame(train_data, columns\u001b[38;5;241m=\u001b[39m[\u001b[38;5;124m'\u001b[39m\u001b[38;5;124mfile\u001b[39m\u001b[38;5;124m'\u001b[39m, \u001b[38;5;124m'\u001b[39m\u001b[38;5;124mid\u001b[39m\u001b[38;5;124m'\u001b[39m, \u001b[38;5;124m'\u001b[39m\u001b[38;5;124mlabel\u001b[39m\u001b[38;5;124m'\u001b[39m])\n\u001b[1;32m      3\u001b[0m df\u001b[38;5;241m.\u001b[39mshape\n\u001b[1;32m      4\u001b[0m df\u001b[38;5;241m.\u001b[39mhead()\n",
      "\u001b[0;31mNameError\u001b[0m: name 'pd' is not defined"
     ]
    }
   ],
   "source": [
    "#create a dataframe\n",
    "df = pd.DataFrame(train_data, columns=['file', 'id', 'label'])\n",
    "df.shape\n",
    "df.head()"
   ]
  },
  {
   "cell_type": "code",
   "execution_count": null,
   "id": "b4a25ae2",
   "metadata": {},
   "outputs": [],
   "source": []
  }
 ],
 "metadata": {
  "kernelspec": {
   "display_name": "Python 3 (ipykernel)",
   "language": "python",
   "name": "python3"
  },
  "language_info": {
   "codemirror_mode": {
    "name": "ipython",
    "version": 3
   },
   "file_extension": ".py",
   "mimetype": "text/x-python",
   "name": "python",
   "nbconvert_exporter": "python",
   "pygments_lexer": "ipython3",
   "version": "3.11.1"
  }
 },
 "nbformat": 4,
 "nbformat_minor": 5
}
